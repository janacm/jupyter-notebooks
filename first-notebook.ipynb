{
 "cells": [
  {
   "cell_type": "code",
   "execution_count": 3,
   "id": "cc449010-609f-4a77-a71e-51353f6f25b4",
   "metadata": {
    "tags": []
   },
   "outputs": [],
   "source": [
    "# Janac's First Ever Juypter Notebook!"
   ]
  },
  {
   "cell_type": "markdown",
   "id": "6ccbe5da-a88c-408e-add4-5cc9f0aaee7d",
   "metadata": {},
   "source": [
    "What I've learned so far is:\n",
    "* Jupyter Lab > Jupyter Notebook > IPython Notebook \n",
    "* Each is a successor of the next\n",
    "* A notebook is sort of like a REPL, except more shareable, graphical, readable and modifiable \n",
    "* You can write Python code, "
   ]
  }
 ],
 "metadata": {
  "kernelspec": {
   "display_name": "Python 3 (ipykernel)",
   "language": "python",
   "name": "python3"
  },
  "language_info": {
   "codemirror_mode": {
    "name": "ipython",
    "version": 3
   },
   "file_extension": ".py",
   "mimetype": "text/x-python",
   "name": "python",
   "nbconvert_exporter": "python",
   "pygments_lexer": "ipython3",
   "version": "3.11.4"
  }
 },
 "nbformat": 4,
 "nbformat_minor": 5
}
